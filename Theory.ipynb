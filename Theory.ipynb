{
 "cells": [
  {
   "cell_type": "markdown",
   "metadata": {},
   "source": [
    "## Introduction"
   ]
  },
  {
   "cell_type": "markdown",
   "metadata": {},
   "source": [
    "Naive-Bayes is a Generative algorithm usually used for <b> Classification</b>. A Generative algorithm find out <b>Posterior Probabilities</b> over classes indirectly with the help of <b>Likelihood Probabilities</b>.<br>\n",
    "The formula for Bayes probability can be derived via Conditional Probability:- <br>\n",
    "<br>\n",
    "1)$ P(A|B) = \\frac{P(A \\cap B)}{P(B)} $\n",
    "\n",
    "2)$ P(B|A) = \\frac{P(B \\cap A)}{P(A)} $\n",
    "\n",
    "<br>\n",
    "From 1 and 2 we can write:-<br><br>\n",
    "$ P(A|B) = \\frac{P(B|A)*P(A)}{P(B|A)*P(A) + P(B|A)*P(\\overline{\\rm A})}$\n",
    "<br>\n",
    "(Considering that A is a binomial variable)\n",
    "<br><br><br>\n",
    "If we are given a Multiclass-Classification problem then our formula becomes:-<br><br>\n",
    "\n",
    "$P(A_0|B) = \\frac{P(B|A_0)*P(A_0)}{\\sum_{i=0}^{i=K} P(B|A_i)*P(A_i)}$\n",
    "\n",
    "Where\n",
    "\n",
    "$P(A|B)$ = Posterior Probability<br>\n",
    "$P(B|A)$ = Likelihood Probability<br>\n",
    "$P(A)$   = Prior Probability<br>\n",
    "$P(A_0|B) = \\frac{P(B|A_0)*P(A_0)}{\\sum_{i=0}^{i=K} P(B|A_i)*P(A_i)}$ or $P(B)$ = Total Probability or Evidence\n",
    "<br><br>\n",
    "\n",
    "The thing that makes Naive-Bayes easy to interpret and apply is its biggest setback, i.e. the assumption made about the data.<br>\n",
    "\n",
    "<b>There exists a conditional independance amongst the features of our data</b>\n",
    "\n",
    "This assumptions are what make up the \"Naive\" of the Naive-Bayes as in reality it rarely ever happens when the features are independent of each other."
   ]
  }
 ],
 "metadata": {
  "kernelspec": {
   "display_name": "Python 3",
   "language": "python",
   "name": "python3"
  },
  "language_info": {
   "codemirror_mode": {
    "name": "ipython",
    "version": 3
   },
   "file_extension": ".py",
   "mimetype": "text/x-python",
   "name": "python",
   "nbconvert_exporter": "python",
   "pygments_lexer": "ipython3",
   "version": "3.6.5"
  }
 },
 "nbformat": 4,
 "nbformat_minor": 2
}
