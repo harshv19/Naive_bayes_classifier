{
 "cells": [
  {
   "cell_type": "markdown",
   "metadata": {},
   "source": [
    "# DATASET-Devanagri\n",
    "\n"
   ]
  },
  {
   "cell_type": "code",
   "execution_count": 185,
   "metadata": {},
   "outputs": [],
   "source": [
    "import pandas as pd\n",
    "import numpy as np\n",
    "import scipy.stats as s\n",
    "import os\n",
    "import matplotlib.pyplot as plt\n",
    "import random"
   ]
  },
  {
   "cell_type": "markdown",
   "metadata": {},
   "source": [
    "# TRAINING DATA"
   ]
  },
  {
   "cell_type": "code",
   "execution_count": 186,
   "metadata": {},
   "outputs": [],
   "source": [
    "list_of_folder_names = os.listdir(\"./Train\")"
   ]
  },
  {
   "cell_type": "code",
   "execution_count": 187,
   "metadata": {},
   "outputs": [],
   "source": [
    "list_of_images = []\n",
    "\n",
    "for each_folder in list_of_folder_names:\n",
    "    \n",
    "    base_path = os.path.join(\"./Train\",each_folder)\n",
    "    \n",
    "    list_of_images_in_folder = os.listdir(base_path)\n",
    "    \n",
    "    list_of_images.extend(map(lambda x: plt.imread(os.path.join(base_path,x)).reshape(1024,),list_of_images_in_folder))"
   ]
  },
  {
   "cell_type": "code",
   "execution_count": 188,
   "metadata": {},
   "outputs": [],
   "source": [
    "stacked_up_images=np.array(list_of_images)"
   ]
  },
  {
   "cell_type": "code",
   "execution_count": 189,
   "metadata": {},
   "outputs": [],
   "source": [
    "raw_data=pd.DataFrame(data=stacked_up_images)"
   ]
  },
  {
   "cell_type": "code",
   "execution_count": 190,
   "metadata": {},
   "outputs": [],
   "source": [
    "labels=[]\n",
    "for i in range(0,46):\n",
    "    for j in range(0,1700):\n",
    "        labels.append(i)\n",
    "train_labels=np.array(labels)"
   ]
  },
  {
   "cell_type": "code",
   "execution_count": 191,
   "metadata": {},
   "outputs": [],
   "source": [
    "train_labels=pd.DataFrame(data=train_labels)"
   ]
  },
  {
   "cell_type": "code",
   "execution_count": 192,
   "metadata": {},
   "outputs": [],
   "source": [
    "train_labels=train_labels.rename(columns={0:'labels'})"
   ]
  },
  {
   "cell_type": "code",
   "execution_count": 193,
   "metadata": {},
   "outputs": [],
   "source": [
    "data=pd.concat([train_labels,raw_data],axis=1)"
   ]
  },
  {
   "cell_type": "markdown",
   "metadata": {},
   "source": [
    "# DATA PREPROCESSING"
   ]
  },
  {
   "cell_type": "markdown",
   "metadata": {},
   "source": [
    "# z normalisation of the data\n"
   ]
  },
  {
   "cell_type": "code",
   "execution_count": 194,
   "metadata": {},
   "outputs": [],
   "source": [
    "#computing mean of every column and standard deviation of every column of the dataframe,except data['labels']\n",
    "raw_data_mean=[]\n",
    "raw_data_standard_dev=[]\n",
    "columns=list(raw_data.columns)\n",
    "for i in columns:\n",
    "    raw_data_mean.append(raw_data[i].mean())\n",
    "    raw_data_standard_dev.append(raw_data[i].std())"
   ]
  },
  {
   "cell_type": "markdown",
   "metadata": {},
   "source": [
    "now we will subtract the mean of every column of the data from every value of the column and divide it with its standard deviation\n",
    "\n",
    "In general, you'll only want to normalize your data if you're going to be using a machine learning or statistics technique that assumes your data is normally distributed. Some examples of these include t-tests, ANOVAs, linear regression, linear discriminant analysis (LDA) and Gaussian naive Bayes"
   ]
  },
  {
   "cell_type": "code",
   "execution_count": 195,
   "metadata": {},
   "outputs": [],
   "source": [
    "#here,we will normalize our data to zero mean and one standard deviation\n",
    "for i in range(len(columns)):\n",
    "        if (raw_data_standard_dev[i]==0):\n",
    "            raw_data[i]=raw_data[i]-raw_data_mean[i]\n",
    "        else:\n",
    "            raw_data[i]=(raw_data[i]-raw_data_mean[i])/raw_data_standard_dev[i]"
   ]
  },
  {
   "cell_type": "code",
   "execution_count": 196,
   "metadata": {},
   "outputs": [],
   "source": [
    "#now we will calculate covariance matrix of our dataset\n",
    "covariance_matrix=raw_data.cov()"
   ]
  },
  {
   "cell_type": "code",
   "execution_count": 197,
   "metadata": {},
   "outputs": [],
   "source": [
    "#now we will get the determinant to conclude whether the our covariance matrix is singular or not\n",
    "covariance_mat=np.linalg.det(covariance_matrix)"
   ]
  },
  {
   "cell_type": "code",
   "execution_count": 198,
   "metadata": {},
   "outputs": [],
   "source": [
    "raw_data=np.array(raw_data)"
   ]
  },
  {
   "cell_type": "markdown",
   "metadata": {},
   "source": [
    "since in our dataset each class covariance matrix is singular now,we have to reduce the dimensionality of our dataset.we will first use PCA(principal component analysis)"
   ]
  },
  {
   "cell_type": "markdown",
   "metadata": {},
   "source": [
    "# PCA"
   ]
  },
  {
   "cell_type": "markdown",
   "metadata": {},
   "source": [
    "STEPS TO REDUCE DIMENSION USING PCA\n",
    "\n",
    "1.COMPUTE EIGEN VECTOR AND EIGEN VALUES OF THE DATASET FROM COVARIANCE MATRIX.\n",
    "\n",
    "2.SET VARIANCE YOU WANT IN THE DATASET,RANGE(95%-99%)\n",
    "\n",
    "3.CREATE A SET OF EIGEN VECTORS WHOSE EIGEN VALUES SUM IS EQUAL TO THE PRESET VARIANCE\n",
    "\n",
    "4.TAKE A PROJECTION OF THE LOWER DIMENSION DATASET BY TAKING  THE DOT PRODUCT OF THE DATASET WITH THE SELECTED EIGEN VECTOR MATRIX.\n"
   ]
  },
  {
   "cell_type": "code",
   "execution_count": 199,
   "metadata": {},
   "outputs": [],
   "source": [
    "#STEP 1. TO COMPUTE EIGEN VALUES AND EIGEN VECTOR WE WILL USE SVD(Singular value decomposition)\n",
    "eigen_vector,eigen_value,eigen_vector_transpose=np.linalg.svd(covariance_matrix.T)"
   ]
  },
  {
   "cell_type": "code",
   "execution_count": 200,
   "metadata": {},
   "outputs": [],
   "source": [
    "#sort the eigen vector and eigen value in the descending order\n",
    "#for sorting we are using quick sort,since quick sort will sort the array in ascending order we will reverse the solution\n",
    "#since we are using singular value decomposition there is no need to use this step,use when you are using different technique for getting eigen value and eigen vector\n",
    "sorted_eigen_vector=np.sort(eigen_vector,axis=0)\n",
    "sorted_eigen_value=np.sort(eigen_value)\n",
    "sorted_eigen_vector=sorted_eigen_vector[::-1]\n",
    "sorted_eigen_value=sorted_eigen_value[::-1]\n",
    "\n"
   ]
  },
  {
   "cell_type": "code",
   "execution_count": 201,
   "metadata": {},
   "outputs": [],
   "source": [
    "#STEP 2. WE WILL HAVE VARIANCE OF 98%\n",
    "#STEP 3. WE WILL COMPUTE THE INDICES OF ALL EIGEN VECTOR BY WHICH OUR VARIANCE IS EQUAL TO 98%\n",
    "principal_components=[]\n",
    "total=np.sum(eigen_value)\n",
    "current_sum=0\n",
    "variance_to_preserve=0.95\n",
    "for i in range(1024):\n",
    "    current_sum+=eigen_value[i]\n",
    "    if((current_sum/total)>variance_to_preserve):\n",
    "        break\n",
    "    principal_components.append(eigen_vector[:,i])"
   ]
  },
  {
   "cell_type": "code",
   "execution_count": 202,
   "metadata": {},
   "outputs": [],
   "source": [
    "#these are those eigen vectors which contribute to the 99% of the variance of the dataset.\n",
    "important_eigen_vectors=np.array(principal_components)"
   ]
  },
  {
   "cell_type": "code",
   "execution_count": 203,
   "metadata": {},
   "outputs": [
    {
     "data": {
      "text/plain": [
       "176"
      ]
     },
     "execution_count": 203,
     "metadata": {},
     "output_type": "execute_result"
    }
   ],
   "source": [
    "len(important_eigen_vectors)"
   ]
  },
  {
   "cell_type": "markdown",
   "metadata": {},
   "source": [
    "the length function used on the calculated eigen vectors from the pca tells us that 297 eigen_vectors out of 1024 are having 98 percent variance of the total dataset."
   ]
  },
  {
   "cell_type": "code",
   "execution_count": 204,
   "metadata": {},
   "outputs": [],
   "source": [
    "#we will now project the lower dimensions of this dataset via multiplying the dataset with eigen vectors we computed above having 99% of the variance.\n",
    "new_data=np.matmul(raw_data,important_eigen_vectors.T)"
   ]
  },
  {
   "cell_type": "code",
   "execution_count": 205,
   "metadata": {},
   "outputs": [],
   "source": [
    "#calculating the covariance of the new dataset for each classes.\n",
    "cov_mats_reduced_of_each_class=[]\n",
    "for i in range(46):\n",
    "    cov_mats_reduced_of_each_class.append(np.cov(new_data[i*1700:(i+1)*1700,:],rowvar=False))\n"
   ]
  },
  {
   "cell_type": "code",
   "execution_count": 206,
   "metadata": {},
   "outputs": [],
   "source": [
    "#determinant of the new dataset for each class\n",
    "det=[]\n",
    "for i in range(46):\n",
    "    det.append(np.linalg.det(cov_mats_reduced_of_each_class[i]))\n"
   ]
  },
  {
   "cell_type": "code",
   "execution_count": 207,
   "metadata": {},
   "outputs": [],
   "source": [
    "#lower dimension dataset.\n",
    "new_data=pd.DataFrame(data=new_data)"
   ]
  },
  {
   "cell_type": "code",
   "execution_count": 208,
   "metadata": {},
   "outputs": [
    {
     "name": "stdout",
     "output_type": "stream",
     "text": [
      "2.5640185008450732e-18\n",
      "8.654291141342076e-41\n",
      "1.305518935938091e-22\n",
      "6.464013355866216e-07\n",
      "6.1027736945268056e-12\n",
      "8.548559459699292e-37\n",
      "3.6274119488700503e-32\n",
      "0.007514318040110594\n",
      "0.005070764921076129\n",
      "0.2113037742971078\n",
      "38459357108.19755\n",
      "1.1805354480000728e-09\n",
      "1.2316805057881195e-33\n",
      "2.1654186995420285e-14\n",
      "13842554.692840362\n",
      "49610.88425261246\n",
      "3.7258654208049236\n",
      "0.0008877252609753707\n",
      "1.2194783883168964e-17\n",
      "1.1334436698338195e-17\n",
      "2.0691707173110097e-06\n",
      "1.2678319382262072e+23\n",
      "3.168962930203871e-07\n",
      "3.3867966944732225e-16\n",
      "1271051165826.3208\n",
      "393782.61621100793\n",
      "137759.80419622647\n",
      "7.350621142258906e-13\n",
      "638.8597673807287\n",
      "3.0168633359851015e-28\n",
      "0.7375054655418537\n",
      "383740519.479943\n",
      "9.769038565292057e-18\n",
      "7.159134923176599e+18\n",
      "1.464977002895613e-16\n",
      "4.265601371581434e+17\n",
      "7.551209665028526e-113\n",
      "9.255982947893808e-73\n",
      "6.919918575701085e-34\n",
      "3.4183037434039085e-16\n",
      "2.3934318068449443e-39\n",
      "2.79921767300014e-26\n",
      "2.5091378281528105e-09\n",
      "2.7945312354911258e-36\n",
      "3.536671042952938e-64\n",
      "7.250260771267939e-41\n"
     ]
    }
   ],
   "source": [
    "for i in range(46):\n",
    "    print(det[i])"
   ]
  },
  {
   "cell_type": "markdown",
   "metadata": {},
   "source": [
    "since our new dataset's covariance is still very zero,hence we will use regularized discriminant analysis"
   ]
  },
  {
   "cell_type": "markdown",
   "metadata": {},
   "source": [
    "# RDA "
   ]
  },
  {
   "cell_type": "code",
   "execution_count": 209,
   "metadata": {},
   "outputs": [],
   "source": [
    "#calculating the covariance of each class in the pca transform dataset.\n",
    "cov_m=[]\n",
    "for i in range(46):\n",
    "    cov_m.append(new_data.iloc[i*1700:(i+1)*1700].cov())"
   ]
  },
  {
   "cell_type": "code",
   "execution_count": 210,
   "metadata": {},
   "outputs": [],
   "source": [
    "#calculating pooled covariance matrix.\n",
    "pool=0\n",
    "for i in cov_m:\n",
    "    pool=pool+1699*i\n",
    "pool=pool/(78200-46)"
   ]
  },
  {
   "cell_type": "code",
   "execution_count": 211,
   "metadata": {},
   "outputs": [
    {
     "data": {
      "text/plain": [
       "3.5501646277296772"
      ]
     },
     "execution_count": 211,
     "metadata": {},
     "output_type": "execute_result"
    }
   ],
   "source": [
    "#calculating sigma \n",
    "sigma=np.trace(pool)/pool.shape[0]\n",
    "sigma"
   ]
  },
  {
   "cell_type": "code",
   "execution_count": 212,
   "metadata": {},
   "outputs": [],
   "source": [
    "def rda(cov_m,pool,sigma):\n",
    "    #using the maximum alpha and gamma value obtained above to get the optimum rda covariance matrix for our dataset. \n",
    "    alpha=np.random.uniform(0,1)\n",
    "    gamma=np.random.uniform(0,1)\n",
    "    final_cov_rda=[]\n",
    "    for i in cov_m:\n",
    "          final_cov_rda.append((alpha*i)+(1-alpha)*pool)\n",
    "    #using the optimum rda covariance matrix to get the modified rda covariance matrix\n",
    "    final_mod_rda=[]\n",
    "    for i in final_cov_rda:\n",
    "        final_mod_rda.append(((1-gamma)*i)+(gamma*sigma*np.identity(cov_m[0].shape[0])))\n",
    "    return final_mod_rda,alpha,gamma"
   ]
  },
  {
   "cell_type": "code",
   "execution_count": 213,
   "metadata": {},
   "outputs": [],
   "source": [
    "def mean(data):\n",
    "    #calculating mean of each class of the pca transformed data ie.(new data)\n",
    "    mean_rda=[]\n",
    "    for i in range(46):\n",
    "        mean_rda.append(new_data.iloc[i*1700:(i+1)*1700].mean())\n",
    "    return mean_rda"
   ]
  },
  {
   "cell_type": "code",
   "execution_count": 214,
   "metadata": {},
   "outputs": [],
   "source": [
    "def posterior_probab(data,rda):\n",
    "    #calculating posterior probablity using probablity distribution function of the normal distribution,as we assume our data is coming from gauusian distribution.\n",
    "    #this will give us likelihood probablity but we maximize the likelihood probability by using -log hence getting posterior probability.\n",
    "    mean_rda1=mean(new_data)\n",
    "    posterior_train_probabilities=[]\n",
    "    for i in range(46):\n",
    "        posterior_train_probabilities.append(-np.log(s.multivariate_normal.pdf(data,mean_rda1[i],rda[i])))\n",
    "    return posterior_train_probabilities"
   ]
  },
  {
   "cell_type": "code",
   "execution_count": 215,
   "metadata": {},
   "outputs": [],
   "source": [
    "def predictions_cal(posterior_train_probabilities):\n",
    "    #there are 46 arrays in the likelihood probabilities each representing a class\n",
    "    #each array has 78200 probabilities that signifies the probabilities of each image\n",
    "    ans_train=[]\n",
    "    for i in range(78200):\n",
    "        m=[]\n",
    "        for j in range(46):\n",
    "            m.append((posterior_train_probabilities[j][i],j))\n",
    "        ans_train.append(min(m))\n",
    "    return ans_train"
   ]
  },
  {
   "cell_type": "code",
   "execution_count": 216,
   "metadata": {},
   "outputs": [],
   "source": [
    "def best():\n",
    "    accuracy=[]\n",
    "    alphalist=[]\n",
    "    gammalist=[]\n",
    "    for i in range(20):\n",
    "        final_mod_rda,alpha,gamma=rda(cov_m,pool,sigma)\n",
    "        posterior_train_probabilities=posterior_probab(new_data,final_mod_rda)\n",
    "        ans_train=predictions_cal(posterior_train_probabilities)\n",
    "        predicted_labels=[]\n",
    "        for j in range(78200):\n",
    "            predicted_labels.append(ans_train[j][1])\n",
    "        predicted_labels=np.array(predicted_labels).reshape(78200,1)\n",
    "        boolean_mask=(predicted_labels == train_labels)\n",
    "        accuracy.append((np.count_nonzero(boolean_mask)/78200)*100)\n",
    "        alphalist.append(alpha)\n",
    "        gammalist.append(gamma)\n",
    "    ind=np.argmax(accuracy)\n",
    "    best_accuracy=accuracy[ind]\n",
    "    best_alpha=alphalist[ind]\n",
    "    best_gamma=gammalist[ind]\n",
    "    \n",
    "    return best_accuracy,best_alpha,best_gamma\n",
    "        "
   ]
  },
  {
   "cell_type": "code",
   "execution_count": 217,
   "metadata": {},
   "outputs": [],
   "source": [
    "accuracy,alpha,gamma=best()"
   ]
  },
  {
   "cell_type": "code",
   "execution_count": 219,
   "metadata": {},
   "outputs": [
    {
     "data": {
      "text/plain": [
       "94.1304347826087"
      ]
     },
     "execution_count": 219,
     "metadata": {},
     "output_type": "execute_result"
    }
   ],
   "source": [
    "accuracy"
   ]
  },
  {
   "cell_type": "code",
   "execution_count": 220,
   "metadata": {},
   "outputs": [],
   "source": [
    "def final_rda(cov_m,pool,sigma,alpha,gamma):\n",
    "    best_rda=[]\n",
    "    for i in cov_m:\n",
    "          best_rda.append((alpha*i)+(1-alpha)*pool)\n",
    "    #using the optimum rda covariance matrix to get the modified rda covariance matrix\n",
    "    best_rda_dash=[]\n",
    "    for i in best_rda:\n",
    "        best_rda_dash.append(((1-gamma)*i)+(gamma*sigma*np.identity(cov_m[0].shape[0])))\n",
    "    return best_rda_dash\n",
    "    "
   ]
  },
  {
   "cell_type": "code",
   "execution_count": 221,
   "metadata": {},
   "outputs": [],
   "source": [
    "rda_final=final_rda(cov_m,pool,sigma,alpha,gamma)"
   ]
  },
  {
   "cell_type": "markdown",
   "metadata": {},
   "source": [
    "# testing data"
   ]
  },
  {
   "cell_type": "code",
   "execution_count": 222,
   "metadata": {},
   "outputs": [],
   "source": [
    "list_of_testing_folder_names = os.listdir(\"./Test/\")"
   ]
  },
  {
   "cell_type": "code",
   "execution_count": 223,
   "metadata": {},
   "outputs": [],
   "source": [
    "list_of_testing_images = []\n",
    "\n",
    "for each_folder in list_of_testing_folder_names:\n",
    "    \n",
    "    base_path = os.path.join(\"./Test/\",each_folder)\n",
    "    \n",
    "    list_of_testing_images_in_folder = os.listdir(base_path)\n",
    "    \n",
    "    list_of_testing_images.extend(map(lambda x: plt.imread(os.path.join(base_path,x)).reshape(1024,),list_of_testing_images_in_folder))"
   ]
  },
  {
   "cell_type": "code",
   "execution_count": 224,
   "metadata": {},
   "outputs": [],
   "source": [
    "testing_stacked_up_images=np.array(list_of_testing_images)"
   ]
  },
  {
   "cell_type": "code",
   "execution_count": 225,
   "metadata": {},
   "outputs": [],
   "source": [
    "testing_raw_data=pd.DataFrame(data=testing_stacked_up_images)"
   ]
  },
  {
   "cell_type": "code",
   "execution_count": 227,
   "metadata": {},
   "outputs": [
    {
     "data": {
      "text/plain": [
       "13785"
      ]
     },
     "execution_count": 227,
     "metadata": {},
     "output_type": "execute_result"
    }
   ],
   "source": [
    "testing_raw_data.shape[0]"
   ]
  },
  {
   "cell_type": "markdown",
   "metadata": {},
   "source": [
    "# normalizing the data"
   ]
  },
  {
   "cell_type": "code",
   "execution_count": 228,
   "metadata": {},
   "outputs": [],
   "source": [
    "for i in range(len(columns)):\n",
    "        if (raw_data_standard_dev[i]==0):\n",
    "            testing_raw_data[i]=testing_raw_data[i]-raw_data_mean[i]\n",
    "        else:\n",
    "            testing_raw_data[i]=(testing_raw_data[i]-raw_data_mean[i])/raw_data_standard_dev[i]"
   ]
  },
  {
   "cell_type": "code",
   "execution_count": 229,
   "metadata": {},
   "outputs": [],
   "source": [
    "#now we will use the above pca computed eigen vectors to project the lower dimension of the testing dataset.\n",
    "new_testing_data=testing_raw_data.dot(important_eigen_vectors.T)"
   ]
  },
  {
   "cell_type": "markdown",
   "metadata": {},
   "source": [
    "# PCA Transform data"
   ]
  },
  {
   "cell_type": "code",
   "execution_count": 230,
   "metadata": {},
   "outputs": [],
   "source": [
    "#computing the mean of each class of the new_testing_data.\n",
    "pca_transform_data_mean=[]\n",
    "for i in range(46):\n",
    "    pca_transform_data_mean.append(new_testing_data.iloc[i*300:(i+1)*300].mean())"
   ]
  },
  {
   "cell_type": "markdown",
   "metadata": {},
   "source": [
    "# Prediction on testing data"
   ]
  },
  {
   "cell_type": "code",
   "execution_count": 231,
   "metadata": {},
   "outputs": [],
   "source": [
    "#calculating posterior probability of the testing dataset\n",
    "testing_posterior_probability=[]\n",
    "for i in range(46):\n",
    "    testing_posterior_probability.append(-np.log(s.multivariate_normal.pdf(new_testing_data,pca_transform_data_mean[i],rda_final[i])))"
   ]
  },
  {
   "cell_type": "code",
   "execution_count": 232,
   "metadata": {},
   "outputs": [],
   "source": [
    "#there are 46 arrays in the likelihood probabilities each representing a class\n",
    "#each array has 78200 probabilities that signifies the probabilities of each image\n",
    "ans_test=[]\n",
    "for i in range(new_testing_data.shape[0]):\n",
    "    n=[]\n",
    "    for j in range(46):\n",
    "        n.append((testing_posterior_probability[j][i],j))\n",
    "    ans_test.append(min(n))"
   ]
  },
  {
   "cell_type": "code",
   "execution_count": 233,
   "metadata": {},
   "outputs": [],
   "source": [
    "predicted_test_labels=[]\n",
    "for i in range(new_testing_data.shape[0]):\n",
    "    predicted_test_labels.append(ans_test[i][1])"
   ]
  },
  {
   "cell_type": "code",
   "execution_count": 243,
   "metadata": {},
   "outputs": [],
   "source": [
    "predicted_test_labels=np.array(predicted_test_labels)"
   ]
  },
  {
   "cell_type": "code",
   "execution_count": 246,
   "metadata": {},
   "outputs": [],
   "source": [
    "predicted_test_labels=predicted_test_labels.reshape(13785,)"
   ]
  },
  {
   "cell_type": "code",
   "execution_count": 248,
   "metadata": {},
   "outputs": [],
   "source": [
    "listi_test=[]\n",
    "for i in range(0,46):\n",
    "    for j in range(0,300):\n",
    "        listi_test.append(i)\n",
    "test_labels=np.array(listi_test)"
   ]
  },
  {
   "cell_type": "code",
   "execution_count": 249,
   "metadata": {},
   "outputs": [],
   "source": [
    "test_labels=test_labels[0:13785]\n"
   ]
  },
  {
   "cell_type": "code",
   "execution_count": 250,
   "metadata": {},
   "outputs": [
    {
     "data": {
      "text/plain": [
       "(13785,)"
      ]
     },
     "execution_count": 250,
     "metadata": {},
     "output_type": "execute_result"
    }
   ],
   "source": [
    "test_labels.shape"
   ]
  },
  {
   "cell_type": "code",
   "execution_count": 251,
   "metadata": {},
   "outputs": [],
   "source": [
    "boolean_mask_test=np.count_nonzero(predicted_test_labels == test_labels)"
   ]
  },
  {
   "cell_type": "code",
   "execution_count": 252,
   "metadata": {},
   "outputs": [
    {
     "data": {
      "text/plain": [
       "12024"
      ]
     },
     "execution_count": 252,
     "metadata": {},
     "output_type": "execute_result"
    }
   ],
   "source": [
    "boolean_mask_test"
   ]
  },
  {
   "cell_type": "markdown",
   "metadata": {},
   "source": [
    "# classification accuracy\n",
    "AC=TN+TP/TN+FP+FN+TP"
   ]
  },
  {
   "cell_type": "code",
   "execution_count": 253,
   "metadata": {},
   "outputs": [
    {
     "name": "stdout",
     "output_type": "stream",
     "text": [
      "87.22524483133841\n"
     ]
    }
   ],
   "source": [
    "#Accuracy-proportion or percentage of correctly predicted labels over all predictions\n",
    "accuracy=(boolean_mask_test/new_testing_data.shape[0])*100\n",
    "print(accuracy)"
   ]
  },
  {
   "cell_type": "code",
   "execution_count": 160,
   "metadata": {},
   "outputs": [],
   "source": [
    "list_of_testing_images1 = []\n",
    "\n",
    "for each_folder in list_of_testing_folder_names:\n",
    "    \n",
    "    base_path = os.path.join(\"./Test/\",each_folder)\n",
    "    \n",
    "    list_of_testing_images_in_folder = os.listdir(base_path)\n",
    "    \n",
    "    list_of_testing_images1.extend(map(lambda x: plt.imread(os.path.join(base_path,x)),list_of_testing_images_in_folder))"
   ]
  },
  {
   "cell_type": "code",
   "execution_count": 254,
   "metadata": {},
   "outputs": [
    {
     "data": {
      "text/plain": [
       "<matplotlib.image.AxesImage at 0x2b20caf67b8>"
      ]
     },
     "execution_count": 254,
     "metadata": {},
     "output_type": "execute_result"
    },
    {
     "data": {
      "image/png": "[encoded data removed]",
      "text/plain": [
       "<Figure size 432x288 with 1 Axes>"
      ]
     },
     "metadata": {
      "needs_background": "light"
     },
     "output_type": "display_data"
    }
   ],
   "source": [
    "plt.imshow(list_of_testing_images1[4852],cmap='gray')"
   ]
  },
  {
   "cell_type": "code",
   "execution_count": 255,
   "metadata": {},
   "outputs": [
    {
     "data": {
      "text/plain": [
       "(16, 16)"
      ]
     },
     "execution_count": 255,
     "metadata": {},
     "output_type": "execute_result"
    }
   ],
   "source": [
    "predicted_test_labels[4852],test_labels[4852]"
   ]
  },
  {
   "cell_type": "code",
   "execution_count": 256,
   "metadata": {},
   "outputs": [
    {
     "data": {
      "text/plain": [
       "(78200, 1)"
      ]
     },
     "execution_count": 256,
     "metadata": {},
     "output_type": "execute_result"
    }
   ],
   "source": [
    "train_labels.shape"
   ]
  },
  {
   "cell_type": "code",
   "execution_count": null,
   "metadata": {},
   "outputs": [],
   "source": []
  }
 ],
 "metadata": {
  "kernelspec": {
   "display_name": "Python 3",
   "language": "python",
   "name": "python3"
  },
  "language_info": {
   "codemirror_mode": {
    "name": "ipython",
    "version": 3
   },
   "file_extension": ".py",
   "mimetype": "text/x-python",
   "name": "python",
   "nbconvert_exporter": "python",
   "pygments_lexer": "ipython3",
   "version": "3.7.3"
  }
 },
 "nbformat": 4,
 "nbformat_minor": 2
}
